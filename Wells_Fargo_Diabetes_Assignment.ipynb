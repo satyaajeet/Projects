{
 "cells": [
  {
   "attachments": {},
   "cell_type": "markdown",
   "id": "ec099b35-2271-429a-a2b5-5560923b6535",
   "metadata": {},
   "source": [
    "#  <a href=\"Wells Fargo\"><img src=\"wells_fargo_logo.png\" width=\"100\"> </a>\n",
    "# Wells Fargo L1 Assignment\n",
    "\n",
    "## Objective\n",
    "### To answer the questions, find the insights from given data and build and compare machine learning models.\r\n"
   ]
  },
  {
   "cell_type": "markdown",
   "id": "6398c861-abe9-42cb-8b33-c94e2895c1e2",
   "metadata": {},
   "source": [
    "  * Q1 Write the code for below sub-questions\n",
    "    - Generate last 3 rows of dataset\n",
    "    - Print First, second and last row in the Dataframe\n",
    "    - Print the 2 rows just before the last 3 rows in the Dataframe\n",
    "    - Summarize the data as an analyst  \n",
    "  * Q2 Subset the above DataFrame for age>35\n",
    "  * Q3 Find relation between Age, Sex and Target Variable\n",
    "  * Q4 Generate Box plot to detect outliers\n",
    "  * Q5 Split the dataset into training and test sets\n",
    "  * Q6 Train the Model using training dataset\n",
    "  * Q7 Generate Predictions using Test dataset\n",
    "  * Q8 Calculate MSE for the predictions\n",
    "  * Q9 Can you evaluate your models\n",
    "  * Q10 Which model would you suggest\n",
    "  * Q11 What would be you model monitoring strategy, which key performance statistical metrics you will consider while looking at model performance\n"
   ]
  },
  {
   "cell_type": "code",
   "execution_count": 1,
   "id": "37e2aeeb-cd79-4f2c-8959-2e63c2cbab18",
   "metadata": {},
   "outputs": [],
   "source": [
    "# Import scikit learn library\n",
    "from sklearn.datasets import load_diabetes\n",
    "import warnings #to avoid warning notifications and increase the readability\n",
    "warnings.filterwarnings(\"ignore\")"
   ]
  },
  {
   "cell_type": "markdown",
   "id": "748a9dff-c036-4b01-b328-b9111a5720bb",
   "metadata": {},
   "source": [
    "###### Load Data"
   ]
  },
  {
   "cell_type": "code",
   "execution_count": 2,
   "id": "8ad2eb16-1ea3-4a5e-b72b-4c209c485012",
   "metadata": {},
   "outputs": [],
   "source": [
    "df=load_diabetes(as_frame=True,scaled=False)"
   ]
  },
  {
   "cell_type": "markdown",
   "id": "05374006-25d1-4f29-bb2e-3fc95b0e92e9",
   "metadata": {},
   "source": [
    "###### check the documentation of the data"
   ]
  },
  {
   "cell_type": "code",
   "execution_count": 3,
   "id": "136cd55e-cf6b-4146-81d6-e56ded796bfc",
   "metadata": {},
   "outputs": [
    {
     "name": "stdout",
     "output_type": "stream",
     "text": [
      ".. _diabetes_dataset:\n",
      "\n",
      "Diabetes dataset\n",
      "----------------\n",
      "\n",
      "Ten baseline variables, age, sex, body mass index, average blood\n",
      "pressure, and six blood serum measurements were obtained for each of n =\n",
      "442 diabetes patients, as well as the response of interest, a\n",
      "quantitative measure of disease progression one year after baseline.\n",
      "\n",
      "**Data Set Characteristics:**\n",
      "\n",
      "  :Number of Instances: 442\n",
      "\n",
      "  :Number of Attributes: First 10 columns are numeric predictive values\n",
      "\n",
      "  :Target: Column 11 is a quantitative measure of disease progression one year after baseline\n",
      "\n",
      "  :Attribute Information:\n",
      "      - age     age in years\n",
      "      - sex\n",
      "      - bmi     body mass index\n",
      "      - bp      average blood pressure\n",
      "      - s1      tc, total serum cholesterol\n",
      "      - s2      ldl, low-density lipoproteins\n",
      "      - s3      hdl, high-density lipoproteins\n",
      "      - s4      tch, total cholesterol / HDL\n",
      "      - s5      ltg, possibly log of serum triglycerides level\n",
      "      - s6      glu, blood sugar level\n",
      "\n",
      "Note: Each of these 10 feature variables have been mean centered and scaled by the standard deviation times the square root of `n_samples` (i.e. the sum of squares of each column totals 1).\n",
      "\n",
      "Source URL:\n",
      "https://www4.stat.ncsu.edu/~boos/var.select/diabetes.html\n",
      "\n",
      "For more information see:\n",
      "Bradley Efron, Trevor Hastie, Iain Johnstone and Robert Tibshirani (2004) \"Least Angle Regression,\" Annals of Statistics (with discussion), 407-499.\n",
      "(https://web.stanford.edu/~hastie/Papers/LARS/LeastAngle_2002.pdf)\n",
      "\n"
     ]
    }
   ],
   "source": [
    "print(df.DESCR)"
   ]
  },
  {
   "cell_type": "code",
   "execution_count": 4,
   "id": "6a2c4c42-ca12-4582-aff2-d58e0932a655",
   "metadata": {},
   "outputs": [
    {
     "name": "stdout",
     "output_type": "stream",
     "text": [
      "['age', 'sex', 'bmi', 'bp', 's1', 's2', 's3', 's4', 's5', 's6']\n"
     ]
    }
   ],
   "source": [
    "print(df.feature_names)"
   ]
  },
  {
   "cell_type": "code",
   "execution_count": 5,
   "id": "8a293e6f-db56-4ec2-9e3b-1f953c635715",
   "metadata": {},
   "outputs": [
    {
     "name": "stdout",
     "output_type": "stream",
     "text": [
      "0      151.0\n",
      "1       75.0\n",
      "2      141.0\n",
      "3      206.0\n",
      "4      135.0\n",
      "       ...  \n",
      "437    178.0\n",
      "438    104.0\n",
      "439    132.0\n",
      "440    220.0\n",
      "441     57.0\n",
      "Name: target, Length: 442, dtype: float64\n"
     ]
    }
   ],
   "source": [
    "print(df.target)"
   ]
  },
  {
   "cell_type": "code",
   "execution_count": 6,
   "id": "17f29527-fe49-4de2-8e78-2dbfaaeb8c7a",
   "metadata": {},
   "outputs": [
    {
     "data": {
      "text/html": [
       "<div>\n",
       "<style scoped>\n",
       "    .dataframe tbody tr th:only-of-type {\n",
       "        vertical-align: middle;\n",
       "    }\n",
       "\n",
       "    .dataframe tbody tr th {\n",
       "        vertical-align: top;\n",
       "    }\n",
       "\n",
       "    .dataframe thead th {\n",
       "        text-align: right;\n",
       "    }\n",
       "</style>\n",
       "<table border=\"1\" class=\"dataframe\">\n",
       "  <thead>\n",
       "    <tr style=\"text-align: right;\">\n",
       "      <th></th>\n",
       "      <th>age</th>\n",
       "      <th>sex</th>\n",
       "      <th>bmi</th>\n",
       "      <th>bp</th>\n",
       "      <th>s1</th>\n",
       "      <th>s2</th>\n",
       "      <th>s3</th>\n",
       "      <th>s4</th>\n",
       "      <th>s5</th>\n",
       "      <th>s6</th>\n",
       "      <th>target</th>\n",
       "    </tr>\n",
       "  </thead>\n",
       "  <tbody>\n",
       "    <tr>\n",
       "      <th>0</th>\n",
       "      <td>59.0</td>\n",
       "      <td>2.0</td>\n",
       "      <td>32.1</td>\n",
       "      <td>101.00</td>\n",
       "      <td>157.0</td>\n",
       "      <td>93.2</td>\n",
       "      <td>38.0</td>\n",
       "      <td>4.00</td>\n",
       "      <td>4.8598</td>\n",
       "      <td>87.0</td>\n",
       "      <td>151.0</td>\n",
       "    </tr>\n",
       "    <tr>\n",
       "      <th>1</th>\n",
       "      <td>48.0</td>\n",
       "      <td>1.0</td>\n",
       "      <td>21.6</td>\n",
       "      <td>87.00</td>\n",
       "      <td>183.0</td>\n",
       "      <td>103.2</td>\n",
       "      <td>70.0</td>\n",
       "      <td>3.00</td>\n",
       "      <td>3.8918</td>\n",
       "      <td>69.0</td>\n",
       "      <td>75.0</td>\n",
       "    </tr>\n",
       "    <tr>\n",
       "      <th>2</th>\n",
       "      <td>72.0</td>\n",
       "      <td>2.0</td>\n",
       "      <td>30.5</td>\n",
       "      <td>93.00</td>\n",
       "      <td>156.0</td>\n",
       "      <td>93.6</td>\n",
       "      <td>41.0</td>\n",
       "      <td>4.00</td>\n",
       "      <td>4.6728</td>\n",
       "      <td>85.0</td>\n",
       "      <td>141.0</td>\n",
       "    </tr>\n",
       "    <tr>\n",
       "      <th>3</th>\n",
       "      <td>24.0</td>\n",
       "      <td>1.0</td>\n",
       "      <td>25.3</td>\n",
       "      <td>84.00</td>\n",
       "      <td>198.0</td>\n",
       "      <td>131.4</td>\n",
       "      <td>40.0</td>\n",
       "      <td>5.00</td>\n",
       "      <td>4.8903</td>\n",
       "      <td>89.0</td>\n",
       "      <td>206.0</td>\n",
       "    </tr>\n",
       "    <tr>\n",
       "      <th>4</th>\n",
       "      <td>50.0</td>\n",
       "      <td>1.0</td>\n",
       "      <td>23.0</td>\n",
       "      <td>101.00</td>\n",
       "      <td>192.0</td>\n",
       "      <td>125.4</td>\n",
       "      <td>52.0</td>\n",
       "      <td>4.00</td>\n",
       "      <td>4.2905</td>\n",
       "      <td>80.0</td>\n",
       "      <td>135.0</td>\n",
       "    </tr>\n",
       "    <tr>\n",
       "      <th>...</th>\n",
       "      <td>...</td>\n",
       "      <td>...</td>\n",
       "      <td>...</td>\n",
       "      <td>...</td>\n",
       "      <td>...</td>\n",
       "      <td>...</td>\n",
       "      <td>...</td>\n",
       "      <td>...</td>\n",
       "      <td>...</td>\n",
       "      <td>...</td>\n",
       "      <td>...</td>\n",
       "    </tr>\n",
       "    <tr>\n",
       "      <th>437</th>\n",
       "      <td>60.0</td>\n",
       "      <td>2.0</td>\n",
       "      <td>28.2</td>\n",
       "      <td>112.00</td>\n",
       "      <td>185.0</td>\n",
       "      <td>113.8</td>\n",
       "      <td>42.0</td>\n",
       "      <td>4.00</td>\n",
       "      <td>4.9836</td>\n",
       "      <td>93.0</td>\n",
       "      <td>178.0</td>\n",
       "    </tr>\n",
       "    <tr>\n",
       "      <th>438</th>\n",
       "      <td>47.0</td>\n",
       "      <td>2.0</td>\n",
       "      <td>24.9</td>\n",
       "      <td>75.00</td>\n",
       "      <td>225.0</td>\n",
       "      <td>166.0</td>\n",
       "      <td>42.0</td>\n",
       "      <td>5.00</td>\n",
       "      <td>4.4427</td>\n",
       "      <td>102.0</td>\n",
       "      <td>104.0</td>\n",
       "    </tr>\n",
       "    <tr>\n",
       "      <th>439</th>\n",
       "      <td>60.0</td>\n",
       "      <td>2.0</td>\n",
       "      <td>24.9</td>\n",
       "      <td>99.67</td>\n",
       "      <td>162.0</td>\n",
       "      <td>106.6</td>\n",
       "      <td>43.0</td>\n",
       "      <td>3.77</td>\n",
       "      <td>4.1271</td>\n",
       "      <td>95.0</td>\n",
       "      <td>132.0</td>\n",
       "    </tr>\n",
       "    <tr>\n",
       "      <th>440</th>\n",
       "      <td>36.0</td>\n",
       "      <td>1.0</td>\n",
       "      <td>30.0</td>\n",
       "      <td>95.00</td>\n",
       "      <td>201.0</td>\n",
       "      <td>125.2</td>\n",
       "      <td>42.0</td>\n",
       "      <td>4.79</td>\n",
       "      <td>5.1299</td>\n",
       "      <td>85.0</td>\n",
       "      <td>220.0</td>\n",
       "    </tr>\n",
       "    <tr>\n",
       "      <th>441</th>\n",
       "      <td>36.0</td>\n",
       "      <td>1.0</td>\n",
       "      <td>19.6</td>\n",
       "      <td>71.00</td>\n",
       "      <td>250.0</td>\n",
       "      <td>133.2</td>\n",
       "      <td>97.0</td>\n",
       "      <td>3.00</td>\n",
       "      <td>4.5951</td>\n",
       "      <td>92.0</td>\n",
       "      <td>57.0</td>\n",
       "    </tr>\n",
       "  </tbody>\n",
       "</table>\n",
       "<p>442 rows × 11 columns</p>\n",
       "</div>"
      ],
      "text/plain": [
       "      age  sex   bmi      bp     s1     s2    s3    s4      s5     s6  target\n",
       "0    59.0  2.0  32.1  101.00  157.0   93.2  38.0  4.00  4.8598   87.0   151.0\n",
       "1    48.0  1.0  21.6   87.00  183.0  103.2  70.0  3.00  3.8918   69.0    75.0\n",
       "2    72.0  2.0  30.5   93.00  156.0   93.6  41.0  4.00  4.6728   85.0   141.0\n",
       "3    24.0  1.0  25.3   84.00  198.0  131.4  40.0  5.00  4.8903   89.0   206.0\n",
       "4    50.0  1.0  23.0  101.00  192.0  125.4  52.0  4.00  4.2905   80.0   135.0\n",
       "..    ...  ...   ...     ...    ...    ...   ...   ...     ...    ...     ...\n",
       "437  60.0  2.0  28.2  112.00  185.0  113.8  42.0  4.00  4.9836   93.0   178.0\n",
       "438  47.0  2.0  24.9   75.00  225.0  166.0  42.0  5.00  4.4427  102.0   104.0\n",
       "439  60.0  2.0  24.9   99.67  162.0  106.6  43.0  3.77  4.1271   95.0   132.0\n",
       "440  36.0  1.0  30.0   95.00  201.0  125.2  42.0  4.79  5.1299   85.0   220.0\n",
       "441  36.0  1.0  19.6   71.00  250.0  133.2  97.0  3.00  4.5951   92.0    57.0\n",
       "\n",
       "[442 rows x 11 columns]"
      ]
     },
     "execution_count": 6,
     "metadata": {},
     "output_type": "execute_result"
    }
   ],
   "source": [
    "# print(df.frame)\n",
    "# type(df)\n",
    "df.frame"
   ]
  },
  {
   "cell_type": "code",
   "execution_count": 7,
   "id": "fcc0096b-dd3e-4cd5-b357-995d3d5e5472",
   "metadata": {},
   "outputs": [],
   "source": [
    "import pandas as pd\n",
    "diabetes_data=df.frame"
   ]
  },
  {
   "cell_type": "code",
   "execution_count": 8,
   "id": "1a41b631-a9ae-429d-8632-c63f5efe7a0a",
   "metadata": {},
   "outputs": [
    {
     "data": {
      "text/html": [
       "<div>\n",
       "<style scoped>\n",
       "    .dataframe tbody tr th:only-of-type {\n",
       "        vertical-align: middle;\n",
       "    }\n",
       "\n",
       "    .dataframe tbody tr th {\n",
       "        vertical-align: top;\n",
       "    }\n",
       "\n",
       "    .dataframe thead th {\n",
       "        text-align: right;\n",
       "    }\n",
       "</style>\n",
       "<table border=\"1\" class=\"dataframe\">\n",
       "  <thead>\n",
       "    <tr style=\"text-align: right;\">\n",
       "      <th></th>\n",
       "      <th>age</th>\n",
       "      <th>sex</th>\n",
       "      <th>bmi</th>\n",
       "      <th>bp</th>\n",
       "      <th>s1</th>\n",
       "      <th>s2</th>\n",
       "      <th>s3</th>\n",
       "      <th>s4</th>\n",
       "      <th>s5</th>\n",
       "      <th>s6</th>\n",
       "      <th>target</th>\n",
       "    </tr>\n",
       "  </thead>\n",
       "  <tbody>\n",
       "    <tr>\n",
       "      <th>0</th>\n",
       "      <td>59.0</td>\n",
       "      <td>2.0</td>\n",
       "      <td>32.1</td>\n",
       "      <td>101.0</td>\n",
       "      <td>157.0</td>\n",
       "      <td>93.2</td>\n",
       "      <td>38.0</td>\n",
       "      <td>4.0</td>\n",
       "      <td>4.8598</td>\n",
       "      <td>87.0</td>\n",
       "      <td>151.0</td>\n",
       "    </tr>\n",
       "    <tr>\n",
       "      <th>1</th>\n",
       "      <td>48.0</td>\n",
       "      <td>1.0</td>\n",
       "      <td>21.6</td>\n",
       "      <td>87.0</td>\n",
       "      <td>183.0</td>\n",
       "      <td>103.2</td>\n",
       "      <td>70.0</td>\n",
       "      <td>3.0</td>\n",
       "      <td>3.8918</td>\n",
       "      <td>69.0</td>\n",
       "      <td>75.0</td>\n",
       "    </tr>\n",
       "    <tr>\n",
       "      <th>2</th>\n",
       "      <td>72.0</td>\n",
       "      <td>2.0</td>\n",
       "      <td>30.5</td>\n",
       "      <td>93.0</td>\n",
       "      <td>156.0</td>\n",
       "      <td>93.6</td>\n",
       "      <td>41.0</td>\n",
       "      <td>4.0</td>\n",
       "      <td>4.6728</td>\n",
       "      <td>85.0</td>\n",
       "      <td>141.0</td>\n",
       "    </tr>\n",
       "    <tr>\n",
       "      <th>3</th>\n",
       "      <td>24.0</td>\n",
       "      <td>1.0</td>\n",
       "      <td>25.3</td>\n",
       "      <td>84.0</td>\n",
       "      <td>198.0</td>\n",
       "      <td>131.4</td>\n",
       "      <td>40.0</td>\n",
       "      <td>5.0</td>\n",
       "      <td>4.8903</td>\n",
       "      <td>89.0</td>\n",
       "      <td>206.0</td>\n",
       "    </tr>\n",
       "    <tr>\n",
       "      <th>4</th>\n",
       "      <td>50.0</td>\n",
       "      <td>1.0</td>\n",
       "      <td>23.0</td>\n",
       "      <td>101.0</td>\n",
       "      <td>192.0</td>\n",
       "      <td>125.4</td>\n",
       "      <td>52.0</td>\n",
       "      <td>4.0</td>\n",
       "      <td>4.2905</td>\n",
       "      <td>80.0</td>\n",
       "      <td>135.0</td>\n",
       "    </tr>\n",
       "  </tbody>\n",
       "</table>\n",
       "</div>"
      ],
      "text/plain": [
       "    age  sex   bmi     bp     s1     s2    s3   s4      s5    s6  target\n",
       "0  59.0  2.0  32.1  101.0  157.0   93.2  38.0  4.0  4.8598  87.0   151.0\n",
       "1  48.0  1.0  21.6   87.0  183.0  103.2  70.0  3.0  3.8918  69.0    75.0\n",
       "2  72.0  2.0  30.5   93.0  156.0   93.6  41.0  4.0  4.6728  85.0   141.0\n",
       "3  24.0  1.0  25.3   84.0  198.0  131.4  40.0  5.0  4.8903  89.0   206.0\n",
       "4  50.0  1.0  23.0  101.0  192.0  125.4  52.0  4.0  4.2905  80.0   135.0"
      ]
     },
     "execution_count": 8,
     "metadata": {},
     "output_type": "execute_result"
    }
   ],
   "source": [
    "diabetes_data.head()"
   ]
  },
  {
   "cell_type": "code",
   "execution_count": 9,
   "id": "d88ba52e-797c-4fbc-a5fd-c03127cede40",
   "metadata": {},
   "outputs": [
    {
     "data": {
      "text/plain": [
       "(442, 11)"
      ]
     },
     "execution_count": 9,
     "metadata": {},
     "output_type": "execute_result"
    }
   ],
   "source": [
    "# To get shape of the dataset (row,column)\n",
    "diabetes_data.shape"
   ]
  },
  {
   "cell_type": "code",
   "execution_count": 10,
   "id": "fedfeaea-7ecf-4222-a5bb-97a45a2276a1",
   "metadata": {},
   "outputs": [
    {
     "name": "stdout",
     "output_type": "stream",
     "text": [
      "<class 'pandas.core.frame.DataFrame'>\n",
      "RangeIndex: 442 entries, 0 to 441\n",
      "Data columns (total 11 columns):\n",
      " #   Column  Non-Null Count  Dtype  \n",
      "---  ------  --------------  -----  \n",
      " 0   age     442 non-null    float64\n",
      " 1   sex     442 non-null    float64\n",
      " 2   bmi     442 non-null    float64\n",
      " 3   bp      442 non-null    float64\n",
      " 4   s1      442 non-null    float64\n",
      " 5   s2      442 non-null    float64\n",
      " 6   s3      442 non-null    float64\n",
      " 7   s4      442 non-null    float64\n",
      " 8   s5      442 non-null    float64\n",
      " 9   s6      442 non-null    float64\n",
      " 10  target  442 non-null    float64\n",
      "dtypes: float64(11)\n",
      "memory usage: 38.1 KB\n"
     ]
    }
   ],
   "source": [
    "diabetes_data.info()"
   ]
  },
  {
   "cell_type": "code",
   "execution_count": 11,
   "id": "d70300ff-adae-4f5b-91a1-ee0ec2391e1e",
   "metadata": {},
   "outputs": [
    {
     "data": {
      "text/plain": [
       "Index(['age', 'sex', 'bmi', 'bp', 's1', 's2', 's3', 's4', 's5', 's6',\n",
       "       'target'],\n",
       "      dtype='object')"
      ]
     },
     "execution_count": 11,
     "metadata": {},
     "output_type": "execute_result"
    }
   ],
   "source": [
    "diabetes_data.columns"
   ]
  },
  {
   "cell_type": "code",
   "execution_count": 12,
   "id": "91387637-25ed-48dc-9fca-c36be869ccbf",
   "metadata": {},
   "outputs": [],
   "source": [
    "diabetes_data.rename({'s1':'tc',\n",
    "                     's2':'ldl',\n",
    "                     's3':'hdl',\n",
    "                     's4':'tch',\n",
    "                      's5':'ltg',\n",
    "                      's6':'glu'},inplace=True,axis=1)"
   ]
  },
  {
   "cell_type": "code",
   "execution_count": 13,
   "id": "9b79ccf1-e4b0-46bd-82e0-f2880a3a69cb",
   "metadata": {},
   "outputs": [
    {
     "data": {
      "text/plain": [
       "Index(['age', 'sex', 'bmi', 'bp', 'tc', 'ldl', 'hdl', 'tch', 'ltg', 'glu',\n",
       "       'target'],\n",
       "      dtype='object')"
      ]
     },
     "execution_count": 13,
     "metadata": {},
     "output_type": "execute_result"
    }
   ],
   "source": [
    "diabetes_data.columns"
   ]
  },
  {
   "cell_type": "code",
   "execution_count": null,
   "id": "4836d1e0-86cb-4ffe-a24c-bca3d8186d4e",
   "metadata": {},
   "outputs": [],
   "source": []
  },
  {
   "cell_type": "markdown",
   "id": "e8921431-ee0e-4f03-8261-42c27ce1b6ce",
   "metadata": {},
   "source": [
    "## Problem Solving\n",
    "## -------------------"
   ]
  },
  {
   "cell_type": "markdown",
   "id": "f6d96267-e1a6-453b-91d8-76edf04d9335",
   "metadata": {},
   "source": [
    "#### Q1.1  Generate last 3 rows of dataset"
   ]
  },
  {
   "cell_type": "code",
   "execution_count": 14,
   "id": "b925f251-de36-4d6b-b49d-b27a063d2411",
   "metadata": {},
   "outputs": [
    {
     "name": "stdout",
     "output_type": "stream",
     "text": [
      "      age  sex   bmi     bp     tc    ldl   hdl   tch     ltg   glu  target\n",
      "439  60.0  2.0  24.9  99.67  162.0  106.6  43.0  3.77  4.1271  95.0   132.0\n",
      "440  36.0  1.0  30.0  95.00  201.0  125.2  42.0  4.79  5.1299  85.0   220.0\n",
      "441  36.0  1.0  19.6  71.00  250.0  133.2  97.0  3.00  4.5951  92.0    57.0\n"
     ]
    }
   ],
   "source": [
    "print(diabetes_data.tail(3))\n",
    "# diabetes_data.tail(3)"
   ]
  },
  {
   "cell_type": "markdown",
   "id": "3f0ead5f-50d2-4398-b014-35026a028ae9",
   "metadata": {},
   "source": [
    "#### Q1.2 Print First, second and last row in the Dataframe"
   ]
  },
  {
   "cell_type": "code",
   "execution_count": 15,
   "id": "9e0d4941-1836-47d7-a4f3-bd0837d66682",
   "metadata": {},
   "outputs": [
    {
     "name": "stdout",
     "output_type": "stream",
     "text": [
      "      age  sex   bmi    bp     tc    ldl   hdl  tch     ltg   glu  target\n",
      "1    48.0  1.0  21.6  87.0  183.0  103.2  70.0  3.0  3.8918  69.0    75.0\n",
      "2    72.0  2.0  30.5  93.0  156.0   93.6  41.0  4.0  4.6728  85.0   141.0\n",
      "441  36.0  1.0  19.6  71.0  250.0  133.2  97.0  3.0  4.5951  92.0    57.0\n"
     ]
    }
   ],
   "source": [
    "# diabetes_data.iloc[[1,2,-1]]\n",
    "print(diabetes_data.iloc[[1,2,-1]])"
   ]
  },
  {
   "cell_type": "markdown",
   "id": "9a3eab8c-44f6-4cd4-933b-d8c2490a5421",
   "metadata": {},
   "source": [
    "#### Q1.3 Print the 2 rows just before the last 3 rows in the Dataframe"
   ]
  },
  {
   "cell_type": "code",
   "execution_count": 16,
   "id": "e51780d9-7d55-451e-94ac-0d640378a0c4",
   "metadata": {},
   "outputs": [
    {
     "name": "stdout",
     "output_type": "stream",
     "text": [
      "      age  sex   bmi     bp     tc    ldl   hdl  tch     ltg    glu  target\n",
      "437  60.0  2.0  28.2  112.0  185.0  113.8  42.0  4.0  4.9836   93.0   178.0\n",
      "438  47.0  2.0  24.9   75.0  225.0  166.0  42.0  5.0  4.4427  102.0   104.0\n"
     ]
    }
   ],
   "source": [
    "# diabetes_data.iloc[[-5:-3]]\n",
    "print(diabetes_data.iloc[-5:-3])"
   ]
  },
  {
   "cell_type": "markdown",
   "id": "4040b88c-f3e1-424e-9501-6a2db8589346",
   "metadata": {},
   "source": [
    "#### Q1.4 Summarize the data as an analyst"
   ]
  },
  {
   "cell_type": "code",
   "execution_count": 17,
   "id": "ac8b4b6e-df10-4dd8-b880-09e9b8e17fd1",
   "metadata": {},
   "outputs": [
    {
     "data": {
      "text/html": [
       "<div>\n",
       "<style scoped>\n",
       "    .dataframe tbody tr th:only-of-type {\n",
       "        vertical-align: middle;\n",
       "    }\n",
       "\n",
       "    .dataframe tbody tr th {\n",
       "        vertical-align: top;\n",
       "    }\n",
       "\n",
       "    .dataframe thead th {\n",
       "        text-align: right;\n",
       "    }\n",
       "</style>\n",
       "<table border=\"1\" class=\"dataframe\">\n",
       "  <thead>\n",
       "    <tr style=\"text-align: right;\">\n",
       "      <th></th>\n",
       "      <th>age</th>\n",
       "      <th>sex</th>\n",
       "      <th>bmi</th>\n",
       "      <th>bp</th>\n",
       "      <th>tc</th>\n",
       "      <th>ldl</th>\n",
       "      <th>hdl</th>\n",
       "      <th>tch</th>\n",
       "      <th>ltg</th>\n",
       "      <th>glu</th>\n",
       "      <th>target</th>\n",
       "    </tr>\n",
       "  </thead>\n",
       "  <tbody>\n",
       "    <tr>\n",
       "      <th>count</th>\n",
       "      <td>442.000000</td>\n",
       "      <td>442.000000</td>\n",
       "      <td>442.000000</td>\n",
       "      <td>442.000000</td>\n",
       "      <td>442.000000</td>\n",
       "      <td>442.000000</td>\n",
       "      <td>442.000000</td>\n",
       "      <td>442.000000</td>\n",
       "      <td>442.000000</td>\n",
       "      <td>442.000000</td>\n",
       "      <td>442.000000</td>\n",
       "    </tr>\n",
       "    <tr>\n",
       "      <th>mean</th>\n",
       "      <td>48.518100</td>\n",
       "      <td>1.468326</td>\n",
       "      <td>26.375792</td>\n",
       "      <td>94.647014</td>\n",
       "      <td>189.140271</td>\n",
       "      <td>115.439140</td>\n",
       "      <td>49.788462</td>\n",
       "      <td>4.070249</td>\n",
       "      <td>4.641411</td>\n",
       "      <td>91.260181</td>\n",
       "      <td>152.133484</td>\n",
       "    </tr>\n",
       "    <tr>\n",
       "      <th>std</th>\n",
       "      <td>13.109028</td>\n",
       "      <td>0.499561</td>\n",
       "      <td>4.418122</td>\n",
       "      <td>13.831283</td>\n",
       "      <td>34.608052</td>\n",
       "      <td>30.413081</td>\n",
       "      <td>12.934202</td>\n",
       "      <td>1.290450</td>\n",
       "      <td>0.522391</td>\n",
       "      <td>11.496335</td>\n",
       "      <td>77.093005</td>\n",
       "    </tr>\n",
       "    <tr>\n",
       "      <th>min</th>\n",
       "      <td>19.000000</td>\n",
       "      <td>1.000000</td>\n",
       "      <td>18.000000</td>\n",
       "      <td>62.000000</td>\n",
       "      <td>97.000000</td>\n",
       "      <td>41.600000</td>\n",
       "      <td>22.000000</td>\n",
       "      <td>2.000000</td>\n",
       "      <td>3.258100</td>\n",
       "      <td>58.000000</td>\n",
       "      <td>25.000000</td>\n",
       "    </tr>\n",
       "    <tr>\n",
       "      <th>25%</th>\n",
       "      <td>38.250000</td>\n",
       "      <td>1.000000</td>\n",
       "      <td>23.200000</td>\n",
       "      <td>84.000000</td>\n",
       "      <td>164.250000</td>\n",
       "      <td>96.050000</td>\n",
       "      <td>40.250000</td>\n",
       "      <td>3.000000</td>\n",
       "      <td>4.276700</td>\n",
       "      <td>83.250000</td>\n",
       "      <td>87.000000</td>\n",
       "    </tr>\n",
       "    <tr>\n",
       "      <th>50%</th>\n",
       "      <td>50.000000</td>\n",
       "      <td>1.000000</td>\n",
       "      <td>25.700000</td>\n",
       "      <td>93.000000</td>\n",
       "      <td>186.000000</td>\n",
       "      <td>113.000000</td>\n",
       "      <td>48.000000</td>\n",
       "      <td>4.000000</td>\n",
       "      <td>4.620050</td>\n",
       "      <td>91.000000</td>\n",
       "      <td>140.500000</td>\n",
       "    </tr>\n",
       "    <tr>\n",
       "      <th>75%</th>\n",
       "      <td>59.000000</td>\n",
       "      <td>2.000000</td>\n",
       "      <td>29.275000</td>\n",
       "      <td>105.000000</td>\n",
       "      <td>209.750000</td>\n",
       "      <td>134.500000</td>\n",
       "      <td>57.750000</td>\n",
       "      <td>5.000000</td>\n",
       "      <td>4.997200</td>\n",
       "      <td>98.000000</td>\n",
       "      <td>211.500000</td>\n",
       "    </tr>\n",
       "    <tr>\n",
       "      <th>max</th>\n",
       "      <td>79.000000</td>\n",
       "      <td>2.000000</td>\n",
       "      <td>42.200000</td>\n",
       "      <td>133.000000</td>\n",
       "      <td>301.000000</td>\n",
       "      <td>242.400000</td>\n",
       "      <td>99.000000</td>\n",
       "      <td>9.090000</td>\n",
       "      <td>6.107000</td>\n",
       "      <td>124.000000</td>\n",
       "      <td>346.000000</td>\n",
       "    </tr>\n",
       "  </tbody>\n",
       "</table>\n",
       "</div>"
      ],
      "text/plain": [
       "              age         sex         bmi          bp          tc         ldl  \\\n",
       "count  442.000000  442.000000  442.000000  442.000000  442.000000  442.000000   \n",
       "mean    48.518100    1.468326   26.375792   94.647014  189.140271  115.439140   \n",
       "std     13.109028    0.499561    4.418122   13.831283   34.608052   30.413081   \n",
       "min     19.000000    1.000000   18.000000   62.000000   97.000000   41.600000   \n",
       "25%     38.250000    1.000000   23.200000   84.000000  164.250000   96.050000   \n",
       "50%     50.000000    1.000000   25.700000   93.000000  186.000000  113.000000   \n",
       "75%     59.000000    2.000000   29.275000  105.000000  209.750000  134.500000   \n",
       "max     79.000000    2.000000   42.200000  133.000000  301.000000  242.400000   \n",
       "\n",
       "              hdl         tch         ltg         glu      target  \n",
       "count  442.000000  442.000000  442.000000  442.000000  442.000000  \n",
       "mean    49.788462    4.070249    4.641411   91.260181  152.133484  \n",
       "std     12.934202    1.290450    0.522391   11.496335   77.093005  \n",
       "min     22.000000    2.000000    3.258100   58.000000   25.000000  \n",
       "25%     40.250000    3.000000    4.276700   83.250000   87.000000  \n",
       "50%     48.000000    4.000000    4.620050   91.000000  140.500000  \n",
       "75%     57.750000    5.000000    4.997200   98.000000  211.500000  \n",
       "max     99.000000    9.090000    6.107000  124.000000  346.000000  "
      ]
     },
     "execution_count": 17,
     "metadata": {},
     "output_type": "execute_result"
    }
   ],
   "source": [
    "diabetes_data.describe(include='all')"
   ]
  },
  {
   "cell_type": "markdown",
   "id": "5cb1a927-c007-4f22-9cc6-c7f20a0b3fd1",
   "metadata": {},
   "source": [
    " - Mean age is 48.5 years of the sample, **Oldest sample is 79 years old and youngest is 19 years old**\n",
    " - Unique gender in the data - 2\n",
    " - Average BMI - 26.3 , **Median BMI - 25.7**, Minimum BMI in sample - 18 (Between 18 and 25 is a healthy person, **Atleast half of the sample is overweight**)\n",
    " - Average or High BMI seems to be common in dataset as there is **no** underweight patient. Diabetes can be linked with high weight with more research on it\n",
    " - Mean BP (94.6) and Median BP (93) seems to be within healthy range (80 -120). Also SD is ~13, mean BP+1SD and mean-1SD also seems to be in healthy range. **Atleast 68.6% people have healthy BP in the sample**\n",
    " - Mean glucose level is 91.2 with SD as 11 and **median** as 91, We can say that more than 50% of the sample as glucose level within range"
   ]
  },
  {
   "cell_type": "markdown",
   "id": "3459f643-1f64-4169-9723-479dd5577467",
   "metadata": {},
   "source": [
    "  - Total rows of data - 442\n",
    "  - Number of Columns in dataframe - 11 (10 features, 1 target)\n",
    "  - Target column data value type - continuous\n",
    "  - Its a Regression problem as target is Continuous"
   ]
  },
  {
   "cell_type": "markdown",
   "id": "a26b2c56-9c23-41d8-94ce-c898428f3d63",
   "metadata": {},
   "source": [
    "#### Q2 Subset the DataFrame for age>35"
   ]
  },
  {
   "cell_type": "code",
   "execution_count": 18,
   "id": "b2e992ed-c258-4bc1-9979-6b2fe640f9a5",
   "metadata": {},
   "outputs": [
    {
     "name": "stdout",
     "output_type": "stream",
     "text": [
      "(357, 11)\n"
     ]
    }
   ],
   "source": [
    "# subsetting the patient aged above 35 in wine_data_35 variable\n",
    "diabetes_data_35=diabetes_data[diabetes_data.age>35]\n",
    "print(diabetes_data_35.shape)\n",
    "# print(diabetes_data_35)"
   ]
  },
  {
   "cell_type": "markdown",
   "id": "ee5daf40-3bd9-46d0-bb88-f79473716c15",
   "metadata": {},
   "source": [
    "#### Q3 Find relation between Age, Sex and Target Variable"
   ]
  },
  {
   "cell_type": "code",
   "execution_count": 19,
   "id": "1f0b2fac-f2df-48b1-8c39-45f3dacd125e",
   "metadata": {},
   "outputs": [
    {
     "data": {
      "text/html": [
       "<div>\n",
       "<style scoped>\n",
       "    .dataframe tbody tr th:only-of-type {\n",
       "        vertical-align: middle;\n",
       "    }\n",
       "\n",
       "    .dataframe tbody tr th {\n",
       "        vertical-align: top;\n",
       "    }\n",
       "\n",
       "    .dataframe thead th {\n",
       "        text-align: right;\n",
       "    }\n",
       "</style>\n",
       "<table border=\"1\" class=\"dataframe\">\n",
       "  <thead>\n",
       "    <tr style=\"text-align: right;\">\n",
       "      <th></th>\n",
       "      <th>age</th>\n",
       "      <th>sex</th>\n",
       "      <th>target</th>\n",
       "    </tr>\n",
       "  </thead>\n",
       "  <tbody>\n",
       "    <tr>\n",
       "      <th>age</th>\n",
       "      <td>1.000000</td>\n",
       "      <td>0.173737</td>\n",
       "      <td>0.187889</td>\n",
       "    </tr>\n",
       "    <tr>\n",
       "      <th>sex</th>\n",
       "      <td>0.173737</td>\n",
       "      <td>1.000000</td>\n",
       "      <td>0.043062</td>\n",
       "    </tr>\n",
       "    <tr>\n",
       "      <th>target</th>\n",
       "      <td>0.187889</td>\n",
       "      <td>0.043062</td>\n",
       "      <td>1.000000</td>\n",
       "    </tr>\n",
       "  </tbody>\n",
       "</table>\n",
       "</div>"
      ],
      "text/plain": [
       "             age       sex    target\n",
       "age     1.000000  0.173737  0.187889\n",
       "sex     0.173737  1.000000  0.043062\n",
       "target  0.187889  0.043062  1.000000"
      ]
     },
     "execution_count": 19,
     "metadata": {},
     "output_type": "execute_result"
    }
   ],
   "source": [
    "diabetes_data[['age','sex','target']].corr()"
   ]
  },
  {
   "cell_type": "markdown",
   "id": "e9b7c874-8218-4906-9edb-b83cb4a0da34",
   "metadata": {},
   "source": [
    " - Both age and sex a weak and positive correlation with target\n",
    " - Sex has very weak correlation, we can infer that both genders are equally susceptible to develop diabetes"
   ]
  },
  {
   "cell_type": "markdown",
   "id": "149a4e6a-67ac-4ca5-a862-fc1fda175672",
   "metadata": {},
   "source": [
    "#### Q4 Generate Box plot to detect outliers."
   ]
  },
  {
   "cell_type": "code",
   "execution_count": 20,
   "id": "0ce6f890-4738-472f-b6fc-51b140becbf4",
   "metadata": {},
   "outputs": [],
   "source": [
    "# Import visualization libraries\n",
    "import matplotlib.pyplot as plt\n",
    "import seaborn as sns"
   ]
  },
  {
   "cell_type": "code",
   "execution_count": 21,
   "id": "2ecff307-a1aa-46e6-b615-53cca8af0195",
   "metadata": {
    "scrolled": true
   },
   "outputs": [
    {
     "data": {
      "text/plain": [
       "[]"
      ]
     },
     "execution_count": 21,
     "metadata": {},
     "output_type": "execute_result"
    },
    {
     "data": {
      "image/png": "[encoded data removed]",
      "text/plain": [
       "<Figure size 500x500 with 1 Axes>"
      ]
     },
     "metadata": {},
     "output_type": "display_data"
    }
   ],
   "source": [
    "# As all the data points are float types, we can plot box plot for every feature along with the target\n",
    "fig,ax = plt.subplots(figsize=(5,5))\n",
    "ax.boxplot(x=diabetes_data,\n",
    "           vert=False,\n",
    "           labels=diabetes_data.columns,\n",
    "           sym='*'\n",
    "          )\n",
    "plt.title('Box plot for target')\n",
    "plt.ylabel('Features')\n",
    "plt.plot()"
   ]
  },
  {
   "cell_type": "markdown",
   "id": "309add67-5b8c-40a6-ab90-7e32a8a94ecc",
   "metadata": {},
   "source": [
    " - based on box plot :-\n",
    "   - tc total serum cholesterol have outlier values,\n",
    "   - ldl low density lipoproteins have outlier values,\n",
    "   - hdl high density lipoproteins have outlier values,\n",
    "   - tch Total cholestrol have outlier values,\n",
    "   - ltg log of serum triglycerides level have outlier values,\n",
    "   - glu Blood sugar level have outlier values\n",
    " - Target seems to be well spread across range"
   ]
  },
  {
   "cell_type": "markdown",
   "id": "f1b6ec65-a178-4b1f-8560-3026afc8e643",
   "metadata": {},
   "source": [
    "####  Q5 Split the dataset into training and test sets."
   ]
  },
  {
   "cell_type": "code",
   "execution_count": 22,
   "id": "2011f377-92f1-49d9-8a46-cfd37040db20",
   "metadata": {},
   "outputs": [],
   "source": [
    "# import model_selection library\n",
    "from sklearn.model_selection import train_test_split\n",
    "X=diabetes_data.drop(['target'],axis=1)\n",
    "y=diabetes_data['target']\n",
    "X_train,X_test,y_train,y_test= train_test_split(X,y,test_size=0.25,random_state=123)"
   ]
  },
  {
   "cell_type": "code",
   "execution_count": 23,
   "id": "7231985c-dbac-4a84-9c1a-e8b8a0d375f9",
   "metadata": {},
   "outputs": [
    {
     "name": "stdout",
     "output_type": "stream",
     "text": [
      "Shape of training feature set : (331, 10)\n",
      "Shape of training target set : (331,)\n",
      "Shape of test feature set : (111, 10)\n",
      "Shape of test target set : (111,)\n"
     ]
    }
   ],
   "source": [
    "# check the train and test data \n",
    "print('Shape of training feature set :',X_train.shape)\n",
    "print('Shape of training target set :',y_train.shape)\n",
    "print('Shape of test feature set :',X_test.shape)\n",
    "print('Shape of test target set :',y_test.shape)\n"
   ]
  },
  {
   "cell_type": "markdown",
   "id": "6ab8d4b4-c692-4214-ac5a-aea18d133a93",
   "metadata": {},
   "source": [
    "#### Q6 Train the Model using training dataset."
   ]
  },
  {
   "cell_type": "code",
   "execution_count": 24,
   "id": "e46633c4-33ad-4b86-a9ec-840855e01f0b",
   "metadata": {},
   "outputs": [
    {
     "data": {
      "text/html": [
       "<style>#sk-container-id-1 {color: black;background-color: white;}#sk-container-id-1 pre{padding: 0;}#sk-container-id-1 div.sk-toggleable {background-color: white;}#sk-container-id-1 label.sk-toggleable__label {cursor: pointer;display: block;width: 100%;margin-bottom: 0;padding: 0.3em;box-sizing: border-box;text-align: center;}#sk-container-id-1 label.sk-toggleable__label-arrow:before {content: \"▸\";float: left;margin-right: 0.25em;color: #696969;}#sk-container-id-1 label.sk-toggleable__label-arrow:hover:before {color: black;}#sk-container-id-1 div.sk-estimator:hover label.sk-toggleable__label-arrow:before {color: black;}#sk-container-id-1 div.sk-toggleable__content {max-height: 0;max-width: 0;overflow: hidden;text-align: left;background-color: #f0f8ff;}#sk-container-id-1 div.sk-toggleable__content pre {margin: 0.2em;color: black;border-radius: 0.25em;background-color: #f0f8ff;}#sk-container-id-1 input.sk-toggleable__control:checked~div.sk-toggleable__content {max-height: 200px;max-width: 100%;overflow: auto;}#sk-container-id-1 input.sk-toggleable__control:checked~label.sk-toggleable__label-arrow:before {content: \"▾\";}#sk-container-id-1 div.sk-estimator input.sk-toggleable__control:checked~label.sk-toggleable__label {background-color: #d4ebff;}#sk-container-id-1 div.sk-label input.sk-toggleable__control:checked~label.sk-toggleable__label {background-color: #d4ebff;}#sk-container-id-1 input.sk-hidden--visually {border: 0;clip: rect(1px 1px 1px 1px);clip: rect(1px, 1px, 1px, 1px);height: 1px;margin: -1px;overflow: hidden;padding: 0;position: absolute;width: 1px;}#sk-container-id-1 div.sk-estimator {font-family: monospace;background-color: #f0f8ff;border: 1px dotted black;border-radius: 0.25em;box-sizing: border-box;margin-bottom: 0.5em;}#sk-container-id-1 div.sk-estimator:hover {background-color: #d4ebff;}#sk-container-id-1 div.sk-parallel-item::after {content: \"\";width: 100%;border-bottom: 1px solid gray;flex-grow: 1;}#sk-container-id-1 div.sk-label:hover label.sk-toggleable__label {background-color: #d4ebff;}#sk-container-id-1 div.sk-serial::before {content: \"\";position: absolute;border-left: 1px solid gray;box-sizing: border-box;top: 0;bottom: 0;left: 50%;z-index: 0;}#sk-container-id-1 div.sk-serial {display: flex;flex-direction: column;align-items: center;background-color: white;padding-right: 0.2em;padding-left: 0.2em;position: relative;}#sk-container-id-1 div.sk-item {position: relative;z-index: 1;}#sk-container-id-1 div.sk-parallel {display: flex;align-items: stretch;justify-content: center;background-color: white;position: relative;}#sk-container-id-1 div.sk-item::before, #sk-container-id-1 div.sk-parallel-item::before {content: \"\";position: absolute;border-left: 1px solid gray;box-sizing: border-box;top: 0;bottom: 0;left: 50%;z-index: -1;}#sk-container-id-1 div.sk-parallel-item {display: flex;flex-direction: column;z-index: 1;position: relative;background-color: white;}#sk-container-id-1 div.sk-parallel-item:first-child::after {align-self: flex-end;width: 50%;}#sk-container-id-1 div.sk-parallel-item:last-child::after {align-self: flex-start;width: 50%;}#sk-container-id-1 div.sk-parallel-item:only-child::after {width: 0;}#sk-container-id-1 div.sk-dashed-wrapped {border: 1px dashed gray;margin: 0 0.4em 0.5em 0.4em;box-sizing: border-box;padding-bottom: 0.4em;background-color: white;}#sk-container-id-1 div.sk-label label {font-family: monospace;font-weight: bold;display: inline-block;line-height: 1.2em;}#sk-container-id-1 div.sk-label-container {text-align: center;}#sk-container-id-1 div.sk-container {/* jupyter's `normalize.less` sets `[hidden] { display: none; }` but bootstrap.min.css set `[hidden] { display: none !important; }` so we also need the `!important` here to be able to override the default hidden behavior on the sphinx rendered scikit-learn.org. See: https://github.com/scikit-learn/scikit-learn/issues/21755 */display: inline-block !important;position: relative;}#sk-container-id-1 div.sk-text-repr-fallback {display: none;}</style><div id=\"sk-container-id-1\" class=\"sk-top-container\"><div class=\"sk-text-repr-fallback\"><pre>LinearRegression()</pre><b>In a Jupyter environment, please rerun this cell to show the HTML representation or trust the notebook. <br />On GitHub, the HTML representation is unable to render, please try loading this page with nbviewer.org.</b></div><div class=\"sk-container\" hidden><div class=\"sk-item\"><div class=\"sk-estimator sk-toggleable\"><input class=\"sk-toggleable__control sk-hidden--visually\" id=\"sk-estimator-id-1\" type=\"checkbox\" checked><label for=\"sk-estimator-id-1\" class=\"sk-toggleable__label sk-toggleable__label-arrow\">LinearRegression</label><div class=\"sk-toggleable__content\"><pre>LinearRegression()</pre></div></div></div></div></div>"
      ],
      "text/plain": [
       "LinearRegression()"
      ]
     },
     "execution_count": 24,
     "metadata": {},
     "output_type": "execute_result"
    }
   ],
   "source": [
    "# Implementing Linear Regression\n",
    "from sklearn.linear_model import LinearRegression\n",
    "lr=LinearRegression()\n",
    "lr.fit(X_train,y_train)\n"
   ]
  },
  {
   "cell_type": "code",
   "execution_count": 25,
   "id": "1708ff58-7ae7-4cc1-9f67-e76052b2c221",
   "metadata": {},
   "outputs": [
    {
     "name": "stdout",
     "output_type": "stream",
     "text": [
      "[  0.10849581 -23.32694968   5.35612228   1.08831909  -1.10795296\n",
      "   0.70089676   0.40710685  10.31636603  62.33450523   0.32080048]\n",
      "-314.9260843103531\n"
     ]
    }
   ],
   "source": [
    "# Checking intercept and coffeicient\n",
    "print(lr.coef_)\n",
    "print(lr.intercept_)"
   ]
  },
  {
   "cell_type": "markdown",
   "id": "97bd0502-e9c2-4493-8e1a-c6abc3314152",
   "metadata": {},
   "source": [
    "#### Q7 Generate Predictions using Test dataset."
   ]
  },
  {
   "cell_type": "code",
   "execution_count": 26,
   "id": "9a04054a-dddc-4a9f-b4ef-30640950b0dd",
   "metadata": {},
   "outputs": [],
   "source": [
    "y_pred=lr.predict(X_test)"
   ]
  },
  {
   "cell_type": "markdown",
   "id": "11ee88f7-a677-4c0c-8bb7-4b2043b6f9c0",
   "metadata": {},
   "source": [
    "#### Q8 Calculate MSE for the predictions\n",
    "#### Can you evaluate your models?data\n",
    "  - Yes, Models can be evaluated based on predicted data\n",
    "  - We can compare the predicted and actual values\n",
    "  - Model evaluation can be done based on 4 different scores for linear regression\n",
    "  - Those scores are Mean absolute error, mean squared error, root mean squared error and r2 score\n",
    "N}N}"
   ]
  },
  {
   "cell_type": "markdown",
   "id": "76daa175-cc9c-4c05-8278-c01e2da05879",
   "metadata": {},
   "source": []
  },
  {
   "cell_type": "code",
   "execution_count": 27,
   "id": "62d5cf20-d046-4cd4-8941-b535edca80b7",
   "metadata": {},
   "outputs": [],
   "source": [
    "# To Evaluate model\n",
    "# We will evaluate model with MAE, MSE, R2 and RMSE\n",
    "from sklearn.metrics import mean_absolute_error,r2_score,mean_squared_error\n",
    "import numpy as np\n",
    "lr_r2=r2_score(y_test,y_pred)\n",
    "lr_mae=mean_absolute_error(y_test,y_pred)\n",
    "lr_mse=mean_squared_error(y_test,y_pred)\n",
    "lr_rmse=np.sqrt(mean_squared_error(y_test,y_pred))"
   ]
  },
  {
   "cell_type": "code",
   "execution_count": 28,
   "id": "fcc5d4ac-6200-44b7-9dd8-b014aa2f9092",
   "metadata": {},
   "outputs": [
    {
     "name": "stdout",
     "output_type": "stream",
     "text": [
      "R2 score :  0.5101622957584463\n",
      "Mean Absolute error :  44.10541595909152\n",
      "Mean Squard error :  2912.3162552445465\n",
      "Root Mean Squared error :  53.9658804731707\n"
     ]
    }
   ],
   "source": [
    "print('R2 score : ',lr_r2)\n",
    "print('Mean Absolute error : ',lr_mae)\n",
    "print('Mean Squard error : ',lr_mse)\n",
    "print('Root Mean Squared error : ',lr_rmse)"
   ]
  },
  {
   "cell_type": "code",
   "execution_count": 29,
   "id": "f1529509-2c2b-432f-a366-e071b6c884db",
   "metadata": {},
   "outputs": [
    {
     "name": "stdout",
     "output_type": "stream",
     "text": [
      "R2 score 0.5101622957584463  R2 score scaled 0.5101622957584456: \n",
      "Mean Absolute error :  0.13740004971679604\n",
      "Mean Squard error :  0.02826366451455779\n",
      "Root Mean Squared error :  0.16811800770458168\n"
     ]
    }
   ],
   "source": [
    "# Doing same operation on scaled data to avoid impact of magnitude of the avalable data\n",
    "from sklearn.preprocessing import MinMaxScaler\n",
    "scaler = MinMaxScaler()\n",
    "scaler.fit(diabetes_data)\n",
    "diabetes_data_scaled=scaler.transform(diabetes_data)\n",
    "diabetes_data_scaled =pd.DataFrame(diabetes_data_scaled,columns=diabetes_data.columns)\n",
    "# print(diabetes_data_scaled.shape)\n",
    "X=diabetes_data_scaled.drop(['target'],axis=1)\n",
    "y=diabetes_data_scaled['target']\n",
    "X_train,X_test,y_train,y_test= train_test_split(X,y,test_size=0.25,random_state=123)\n",
    "\n",
    "# Implementing Linear Regression\n",
    "from sklearn.linear_model import LinearRegression\n",
    "lr=LinearRegression()\n",
    "lr.fit(X_train,y_train)\n",
    "y_pred=lr.predict(X_test)\n",
    "\n",
    "# Evaluate model on scaled data\n",
    "from sklearn.metrics import mean_absolute_error,r2_score,mean_squared_error\n",
    "import numpy as np\n",
    "lrs_r2=r2_score(y_test,y_pred)\n",
    "lrs_mae=mean_absolute_error(y_test,y_pred)\n",
    "lrs_mse=mean_squared_error(y_test,y_pred)\n",
    "lrs_rmse=np.sqrt(mean_squared_error(y_test,y_pred))\n",
    "\n",
    "# score on scaled data\n",
    "print('R2 score {0}  R2 score scaled {1}: '.format(lr_r2,lrs_r2))\n",
    "print('Mean Absolute error : ',lrs_mae)\n",
    "print('Mean Squard error : ',lrs_mse)\n",
    "print('Root Mean Squared error : ',lrs_rmse)"
   ]
  },
  {
   "cell_type": "code",
   "execution_count": 30,
   "id": "aae2bbdb-d7c3-410b-8acb-5838122a7c37",
   "metadata": {},
   "outputs": [],
   "source": [
    "#packaging other model inside a function\n",
    "from sklearn.ensemble import RandomForestRegressor\n",
    "def randomforestregressor(data):\n",
    "    \"\"\"\n",
    "    The function invokes RandomForestRegressor. It accepts the dataframe\n",
    "    with all integer datatype column and dependant variable named as 'target' and returns r2_Score.\n",
    "    \"\"\"\n",
    "    X=data.drop(['target'],axis=1)\n",
    "    y=pd.DataFrame(diabetes_data['target'],columns=['target'])\n",
    "    X_train,X_test,y_train,y_test= train_test_split(X,y,test_size=0.25,random_state=123)\n",
    "    rfr=RandomForestRegressor()\n",
    "    rfr.fit(X_train,y_train)\n",
    "    y_pred=rfr.predict(X_test)\n",
    "    rfr_score=r2_score(y_test,y_pred)\n",
    "    return rfr_score   "
   ]
  },
  {
   "cell_type": "code",
   "execution_count": 31,
   "id": "a9590802-6b1d-40be-986b-af6f785fd410",
   "metadata": {},
   "outputs": [
    {
     "name": "stdout",
     "output_type": "stream",
     "text": [
      "0.489311428846128\n"
     ]
    }
   ],
   "source": [
    "# PAssing the data to function that invokes the model and getting the score as output \n",
    "rfr_r2=randomforestregressor(diabetes_data)\n",
    "print(rfr_r2)"
   ]
  },
  {
   "cell_type": "code",
   "execution_count": null,
   "id": "b7b074bf-80e3-4a52-886b-56f2f29c7e28",
   "metadata": {},
   "outputs": [],
   "source": []
  },
  {
   "cell_type": "code",
   "execution_count": 32,
   "id": "266e66b3-12ed-4489-b7cd-6c059177cdd5",
   "metadata": {},
   "outputs": [],
   "source": [
    "# Function to scale the data\n",
    "from sklearn.preprocessing import MinMaxScaler\n",
    "def scaling(data):\n",
    "    \"\"\"\n",
    "    The function uses MinMaxScaler to scale the data. After scaling, data ranges between 0 and 1.\n",
    "    \"\"\"\n",
    "    scaler = MinMaxScaler()\n",
    "    scaler.fit(data)\n",
    "    data_scaled=scaler.transform(data)\n",
    "    data_scaled =pd.DataFrame(data_scaled,columns=data.columns)\n",
    "    return data_scaled"
   ]
  },
  {
   "cell_type": "code",
   "execution_count": 33,
   "id": "0d76ee6b-84ef-4ce4-8c80-368571ffc1fc",
   "metadata": {},
   "outputs": [
    {
     "name": "stdout",
     "output_type": "stream",
     "text": [
      "0.4961018035153718\n"
     ]
    }
   ],
   "source": [
    "# Calling scaling function to scale the data and passing the scaled data to RandomforestRegressor model to get r2 score\n",
    "data=scaling(diabetes_data)\n",
    "rfrs_r2=randomforestregressor(data)\n",
    "print(rfrs_r2)"
   ]
  },
  {
   "cell_type": "code",
   "execution_count": 34,
   "id": "abc4ce5a-5537-4e20-88ed-4a345007b83d",
   "metadata": {},
   "outputs": [],
   "source": [
    "# Storing the scores of models in different variables\n",
    "# sc=[lr_r2,lrs_r2,rfr_r2,rfrs_r2]\n",
    "metrics_score_name=['lr_r2','lrs_r2','rfr_r2','rfrs_r2']\n",
    "metrics_score=[lr_r2,lrs_r2,rfr_r2,rfrs_r2]"
   ]
  },
  {
   "cell_type": "code",
   "execution_count": 35,
   "id": "5fc78f71-d360-4d5f-93a7-8f27944924af",
   "metadata": {},
   "outputs": [],
   "source": [
    "# # SGDRegressor for modelling\n",
    "# from sklearn.linear_model import SGDRegressor\n",
    "# def sgdregressor(data):\n",
    "#     \"\"\"\n",
    "#     SGD Regressor implementation with the function\n",
    "#     \"\"\"\n",
    "#     sgdr=SGDRegressor()\n",
    "#     X=data.drop(['target'],axis=1)\n",
    "#     y=pd.DataFrame(diabetes_data['target'],columns=['target'])\n",
    "#     X_train,X_test,y_train,y_test= train_test_split(X,y,test_size=0.25,random_state=123)\n",
    "#     sgdr.fit(X_train,y_train)\n",
    "#     y_pred=sgdr.predict(X_test)\n",
    "#     sgdr_score=r2_score(y_test,y_pred)\n",
    "#     return sgdr_score\n",
    "\n",
    "# #calling the function to get the r2 score\n",
    "# sgdr_r2=sgdregressor(diabetes_data)\n",
    "# metrics_score_name.append(f'sgdr_r2')\n",
    "# metrics_score.append(sgdr_r2)\n",
    "# print(sgdr_r2)"
   ]
  },
  {
   "cell_type": "code",
   "execution_count": 36,
   "id": "a6cd450e-c04a-4649-8073-085235e47996",
   "metadata": {},
   "outputs": [
    {
     "name": "stdout",
     "output_type": "stream",
     "text": [
      "0.5019744699202742\n"
     ]
    }
   ],
   "source": [
    "#Ridge  for modelling\n",
    "from sklearn.linear_model import Ridge\n",
    "def ridge(data):\n",
    "    \"\"\"\n",
    "    Ridge Regression implementation\n",
    "    \"\"\"\n",
    "    X=data.drop(['target'],axis=1)\n",
    "    y=pd.DataFrame(diabetes_data['target'],columns=['target'])\n",
    "    X_train,X_test,y_train,y_test= train_test_split(X,y,test_size=0.25,random_state=123)\n",
    "    r=Ridge()\n",
    "    r.fit(X_train,y_train)\n",
    "    y_pred=r.predict(X_test)\n",
    "    r_score=r2_score(y_test,y_pred)\n",
    "    return r_score\n",
    "\n",
    "#calling the function to get the r2 score\n",
    "r_r2=ridge(data)\n",
    "metrics_score_name.append(f'r_r2')\n",
    "metrics_score.append(r_r2)\n",
    "print(r_r2)"
   ]
  },
  {
   "cell_type": "code",
   "execution_count": 37,
   "id": "88a9ecd0-bd79-4983-a2f6-dbdf7da6b448",
   "metadata": {},
   "outputs": [
    {
     "name": "stdout",
     "output_type": "stream",
     "text": [
      "0.517007116996903\n"
     ]
    }
   ],
   "source": [
    "from sklearn.linear_model import ARDRegression\n",
    "def ardregressor(data):\n",
    "    \"\"\"\n",
    "    Fit the weights of a regression model, using an ARD prior.\n",
    "    The weights of the regression model are assumed to be\n",
    "    in Gaussian distributions. Also estimate the parameters\n",
    "    lambda (precisions of the distributions of the weights)\n",
    "    and alpha (precision of the distribution of the noise). \n",
    "    The estimation is done by an iterative procedures (Evidence Maximization)\n",
    "    \"\"\"\n",
    "    ardr=ARDRegression()\n",
    "    X=data.drop(['target'],axis=1)\n",
    "    y=pd.DataFrame(diabetes_data['target'],columns=['target'])\n",
    "    X_train,X_test,y_train,y_test= train_test_split(X,\n",
    "                                                    y,\n",
    "                                                    test_size=0.25,\n",
    "                                                    random_state=123)\n",
    "    ardr.fit(X_train,y_train)\n",
    "    y_pred=ardr.predict(X_test)\n",
    "    ardr_score=r2_score(y_test,y_pred)\n",
    "    return ardr_score\n",
    "\n",
    "ardr_r2=ardregressor(data)\n",
    "metrics_score_name.append(f'ardr_r2')\n",
    "metrics_score.append(ardr_r2)\n",
    "print(ardr_r2)\n",
    "    "
   ]
  },
  {
   "cell_type": "code",
   "execution_count": 38,
   "id": "40646f17-1282-413e-a606-41de74a2e6f8",
   "metadata": {},
   "outputs": [
    {
     "name": "stdout",
     "output_type": "stream",
     "text": [
      "   Metrics     Score\n",
      "0    lr_r2  0.510162\n",
      "1   lrs_r2  0.510162\n",
      "2   rfr_r2  0.489311\n",
      "3  rfrs_r2  0.496102\n",
      "4     r_r2  0.501974\n",
      "5  ardr_r2  0.517007\n"
     ]
    },
    {
     "data": {
      "text/plain": [
       "Text(0.5, 0, 'Score')"
      ]
     },
     "execution_count": 38,
     "metadata": {},
     "output_type": "execute_result"
    },
    {
     "data": {
      "image/png": "[encoded data removed]",
      "text/plain": [
       "<Figure size 640x480 with 1 Axes>"
      ]
     },
     "metadata": {},
     "output_type": "display_data"
    }
   ],
   "source": [
    "print(pd.DataFrame({'Metrics':metrics_score_name,'Score':metrics_score}))\n",
    "fig=plt.subplots()\n",
    "pd.Series(metrics_score,index=metrics_score_name).plot(kind='bar')\n",
    "plt.xlabel('Score')"
   ]
  },
  {
   "cell_type": "markdown",
   "id": "4edd87cc-4f72-4d1f-a859-2dc56eebe36a",
   "metadata": {},
   "source": [
    "## Implementing models using pipeline and all the models for faster execution"
   ]
  },
  {
   "cell_type": "code",
   "execution_count": 39,
   "id": "72443dcf-00c6-40e9-b70e-8d21dedd4f6a",
   "metadata": {},
   "outputs": [],
   "source": [
    "import numpy as np\n",
    "import pandas as pd\n",
    "from sklearn.model_selection import GridSearchCV\n",
    "from sklearn.pipeline import Pipeline\n",
    "from sklearn.preprocessing import StandardScaler\n",
    "from sklearn.linear_model import LinearRegression, Ridge, Lasso, ARDRegression,SGDRegressor, HuberRegressor,QuantileRegressor,PoissonRegressor"
   ]
  },
  {
   "cell_type": "code",
   "execution_count": 40,
   "id": "4e58934f-24f3-4fd4-9f1a-c77e129af996",
   "metadata": {},
   "outputs": [],
   "source": [
    "# train test split for  \n",
    "X=data.drop(['target'],axis=1)\n",
    "y=pd.DataFrame(diabetes_data['target'],columns=['target'])\n",
    "X_train,X_test,y_train,y_test= train_test_split(X,y,test_size=0.25,random_state=123)"
   ]
  },
  {
   "cell_type": "code",
   "execution_count": 41,
   "id": "ecbc9fba-56a8-4b6f-958b-4f9526777028",
   "metadata": {},
   "outputs": [],
   "source": [
    "pipeline = Pipeline([('scaler', MinMaxScaler()) , ## Transform step of pipeline\n",
    "                     ('regressor', LinearRegression()) ## last step as predictor\n",
    "                    ])\n",
    "\n",
    "param_grid = [\n",
    "    { 'regressor': [LinearRegression()] },\n",
    "    { 'regressor': [Ridge()],'regressor__alpha': [0.001,0.0001,0.1, 1.0, 10.0] },\n",
    "     { 'regressor': [RandomForestRegressor()],'regressor__ccp_alpha': [0.001,0.0001,0.1, 1.0, 10.0],\n",
    "      'regressor__n_estimators':[10,50,100],'regressor__min_samples_split':[1,5,10],'regressor__max_features':['sqrt', 'log2'] }\n",
    "    # { 'regressor': [Lasso()],'regressor__alpha': [0.001,0.0001,0.1, 1.0, 10.0] },\n",
    "    # { 'regressor': [ARDRegression()],'regressor__alpha_1': [0.001,0.0001,0.1, 1.0, 10.0]},\n",
    "    # { 'regressor': [HuberRegressor()],'regressor__alpha': [0.001,0.0001,0.1, 1.0, 10.0] },\n",
    "    # { 'regressor': [QuantileRegressor()],'regressor__alpha': [0.001,0.0001,0.1, 1.0, 10.0] },\n",
    "    # { 'regressor': [PoissonRegressor()],'regressor__alpha': [0.001,0.0001,0.1, 1.0, 10.0] },\n",
    "    # { 'regressor': [SGDRegressor()],'regressor__alpha': [0.001,0.0001,0.1, 1.0, 10.0] }\n",
    "    ]\n",
    "\n",
    "grid_search = GridSearchCV(pipeline, param_grid, cv=5)\n",
    "grid_search.fit(X_train, y_train)\n",
    "\n",
    "best_model = grid_search.best_estimator_\n",
    "y_pred = best_model.predict(X_test)\n",
    "final_score = r2_score(y_test, y_pred)"
   ]
  },
  {
   "cell_type": "code",
   "execution_count": 42,
   "id": "0bad929e-3077-4e88-8591-df358cfea398",
   "metadata": {},
   "outputs": [
    {
     "data": {
      "text/plain": [
       "0.5101622957584457"
      ]
     },
     "execution_count": 42,
     "metadata": {},
     "output_type": "execute_result"
    }
   ],
   "source": [
    "#best score in training\n",
    "final_score"
   ]
  },
  {
   "cell_type": "code",
   "execution_count": 43,
   "id": "fb9a7101-b14e-4558-a662-a82031ac52de",
   "metadata": {},
   "outputs": [
    {
     "data": {
      "text/plain": [
       "{'regressor': LinearRegression()}"
      ]
     },
     "execution_count": 43,
     "metadata": {},
     "output_type": "execute_result"
    }
   ],
   "source": [
    "grid_search.best_params_"
   ]
  },
  {
   "cell_type": "code",
   "execution_count": 44,
   "id": "70e56e5e-b68f-4312-9547-703cc433d2d8",
   "metadata": {},
   "outputs": [
    {
     "data": {
      "text/html": [
       "<style>#sk-container-id-2 {color: black;background-color: white;}#sk-container-id-2 pre{padding: 0;}#sk-container-id-2 div.sk-toggleable {background-color: white;}#sk-container-id-2 label.sk-toggleable__label {cursor: pointer;display: block;width: 100%;margin-bottom: 0;padding: 0.3em;box-sizing: border-box;text-align: center;}#sk-container-id-2 label.sk-toggleable__label-arrow:before {content: \"▸\";float: left;margin-right: 0.25em;color: #696969;}#sk-container-id-2 label.sk-toggleable__label-arrow:hover:before {color: black;}#sk-container-id-2 div.sk-estimator:hover label.sk-toggleable__label-arrow:before {color: black;}#sk-container-id-2 div.sk-toggleable__content {max-height: 0;max-width: 0;overflow: hidden;text-align: left;background-color: #f0f8ff;}#sk-container-id-2 div.sk-toggleable__content pre {margin: 0.2em;color: black;border-radius: 0.25em;background-color: #f0f8ff;}#sk-container-id-2 input.sk-toggleable__control:checked~div.sk-toggleable__content {max-height: 200px;max-width: 100%;overflow: auto;}#sk-container-id-2 input.sk-toggleable__control:checked~label.sk-toggleable__label-arrow:before {content: \"▾\";}#sk-container-id-2 div.sk-estimator input.sk-toggleable__control:checked~label.sk-toggleable__label {background-color: #d4ebff;}#sk-container-id-2 div.sk-label input.sk-toggleable__control:checked~label.sk-toggleable__label {background-color: #d4ebff;}#sk-container-id-2 input.sk-hidden--visually {border: 0;clip: rect(1px 1px 1px 1px);clip: rect(1px, 1px, 1px, 1px);height: 1px;margin: -1px;overflow: hidden;padding: 0;position: absolute;width: 1px;}#sk-container-id-2 div.sk-estimator {font-family: monospace;background-color: #f0f8ff;border: 1px dotted black;border-radius: 0.25em;box-sizing: border-box;margin-bottom: 0.5em;}#sk-container-id-2 div.sk-estimator:hover {background-color: #d4ebff;}#sk-container-id-2 div.sk-parallel-item::after {content: \"\";width: 100%;border-bottom: 1px solid gray;flex-grow: 1;}#sk-container-id-2 div.sk-label:hover label.sk-toggleable__label {background-color: #d4ebff;}#sk-container-id-2 div.sk-serial::before {content: \"\";position: absolute;border-left: 1px solid gray;box-sizing: border-box;top: 0;bottom: 0;left: 50%;z-index: 0;}#sk-container-id-2 div.sk-serial {display: flex;flex-direction: column;align-items: center;background-color: white;padding-right: 0.2em;padding-left: 0.2em;position: relative;}#sk-container-id-2 div.sk-item {position: relative;z-index: 1;}#sk-container-id-2 div.sk-parallel {display: flex;align-items: stretch;justify-content: center;background-color: white;position: relative;}#sk-container-id-2 div.sk-item::before, #sk-container-id-2 div.sk-parallel-item::before {content: \"\";position: absolute;border-left: 1px solid gray;box-sizing: border-box;top: 0;bottom: 0;left: 50%;z-index: -1;}#sk-container-id-2 div.sk-parallel-item {display: flex;flex-direction: column;z-index: 1;position: relative;background-color: white;}#sk-container-id-2 div.sk-parallel-item:first-child::after {align-self: flex-end;width: 50%;}#sk-container-id-2 div.sk-parallel-item:last-child::after {align-self: flex-start;width: 50%;}#sk-container-id-2 div.sk-parallel-item:only-child::after {width: 0;}#sk-container-id-2 div.sk-dashed-wrapped {border: 1px dashed gray;margin: 0 0.4em 0.5em 0.4em;box-sizing: border-box;padding-bottom: 0.4em;background-color: white;}#sk-container-id-2 div.sk-label label {font-family: monospace;font-weight: bold;display: inline-block;line-height: 1.2em;}#sk-container-id-2 div.sk-label-container {text-align: center;}#sk-container-id-2 div.sk-container {/* jupyter's `normalize.less` sets `[hidden] { display: none; }` but bootstrap.min.css set `[hidden] { display: none !important; }` so we also need the `!important` here to be able to override the default hidden behavior on the sphinx rendered scikit-learn.org. See: https://github.com/scikit-learn/scikit-learn/issues/21755 */display: inline-block !important;position: relative;}#sk-container-id-2 div.sk-text-repr-fallback {display: none;}</style><div id=\"sk-container-id-2\" class=\"sk-top-container\"><div class=\"sk-text-repr-fallback\"><pre>Pipeline(steps=[(&#x27;scaler&#x27;, MinMaxScaler()), (&#x27;regressor&#x27;, LinearRegression())])</pre><b>In a Jupyter environment, please rerun this cell to show the HTML representation or trust the notebook. <br />On GitHub, the HTML representation is unable to render, please try loading this page with nbviewer.org.</b></div><div class=\"sk-container\" hidden><div class=\"sk-item sk-dashed-wrapped\"><div class=\"sk-label-container\"><div class=\"sk-label sk-toggleable\"><input class=\"sk-toggleable__control sk-hidden--visually\" id=\"sk-estimator-id-2\" type=\"checkbox\" ><label for=\"sk-estimator-id-2\" class=\"sk-toggleable__label sk-toggleable__label-arrow\">Pipeline</label><div class=\"sk-toggleable__content\"><pre>Pipeline(steps=[(&#x27;scaler&#x27;, MinMaxScaler()), (&#x27;regressor&#x27;, LinearRegression())])</pre></div></div></div><div class=\"sk-serial\"><div class=\"sk-item\"><div class=\"sk-estimator sk-toggleable\"><input class=\"sk-toggleable__control sk-hidden--visually\" id=\"sk-estimator-id-3\" type=\"checkbox\" ><label for=\"sk-estimator-id-3\" class=\"sk-toggleable__label sk-toggleable__label-arrow\">MinMaxScaler</label><div class=\"sk-toggleable__content\"><pre>MinMaxScaler()</pre></div></div></div><div class=\"sk-item\"><div class=\"sk-estimator sk-toggleable\"><input class=\"sk-toggleable__control sk-hidden--visually\" id=\"sk-estimator-id-4\" type=\"checkbox\" ><label for=\"sk-estimator-id-4\" class=\"sk-toggleable__label sk-toggleable__label-arrow\">LinearRegression</label><div class=\"sk-toggleable__content\"><pre>LinearRegression()</pre></div></div></div></div></div></div></div>"
      ],
      "text/plain": [
       "Pipeline(steps=[('scaler', MinMaxScaler()), ('regressor', LinearRegression())])"
      ]
     },
     "execution_count": 44,
     "metadata": {},
     "output_type": "execute_result"
    }
   ],
   "source": [
    "#best model for our data among implemented models\n",
    "best_model"
   ]
  },
  {
   "cell_type": "code",
   "execution_count": 45,
   "id": "98686557-b219-4169-bd14-1d6a6a594968",
   "metadata": {},
   "outputs": [
    {
     "data": {
      "text/plain": [
       "{'memory': None,\n",
       " 'steps': [('scaler', MinMaxScaler()), ('regressor', LinearRegression())],\n",
       " 'verbose': False,\n",
       " 'scaler': MinMaxScaler(),\n",
       " 'regressor': LinearRegression(),\n",
       " 'scaler__clip': False,\n",
       " 'scaler__copy': True,\n",
       " 'scaler__feature_range': (0, 1),\n",
       " 'regressor__copy_X': True,\n",
       " 'regressor__fit_intercept': True,\n",
       " 'regressor__n_jobs': None,\n",
       " 'regressor__positive': False}"
      ]
     },
     "execution_count": 45,
     "metadata": {},
     "output_type": "execute_result"
    }
   ],
   "source": [
    "pipeline.get_params()"
   ]
  },
  {
   "cell_type": "markdown",
   "id": "7124ad87-3343-4d0d-b717-0cf0afde4b9b",
   "metadata": {},
   "source": [
    "### Further study\n",
    "### Hyperparameter tuning with more features\n",
    "### More models and understanding advantage and disadvantage\n"
   ]
  },
  {
   "cell_type": "markdown",
   "id": "d664f338-8721-418f-a948-794b1af53c3d",
   "metadata": {},
   "source": [
    "# End Of File"
   ]
  },
  {
   "cell_type": "code",
   "execution_count": null,
   "id": "f212f1c5-e1e8-45b7-aa00-59e108cdd215",
   "metadata": {},
   "outputs": [],
   "source": []
  }
 ],
 "metadata": {
  "kernelspec": {
   "display_name": "Python 3 (ipykernel)",
   "language": "python",
   "name": "python3"
  },
  "language_info": {
   "codemirror_mode": {
    "name": "ipython",
    "version": 3
   },
   "file_extension": ".py",
   "mimetype": "text/x-python",
   "name": "python",
   "nbconvert_exporter": "python",
   "pygments_lexer": "ipython3",
   "version": "3.11.7"
  }
 },
 "nbformat": 4,
 "nbformat_minor": 5
}
